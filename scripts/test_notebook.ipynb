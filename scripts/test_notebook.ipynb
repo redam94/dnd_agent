{
 "cells": [
  {
   "cell_type": "code",
   "execution_count": 2,
   "id": "f304f2a2",
   "metadata": {},
   "outputs": [],
   "source": [
    "from typing import Any, Dict, Optional\n",
    "from rich.console import Console\n",
    "from rich.markdown import Markdown\n",
    "from dataclasses import dataclass\n",
    "import os\n",
    "console = Console()\n",
    "print = lambda c: console.print(Markdown(c))\n",
    "\n",
    "from dnd_agent.multiagent import AgentType, RulesAgent, SpatialAgent, NarrativeAgent, CombatAgent, AgentRequest, AgentResponse, MemoryAgent, MultiAgentDnDSystem\n",
    "\n",
    "from dnd_agent.database.neo4j_manager import Neo4jSpatialManager\n",
    "from dnd_agent.database.vector_db import PostgresVectorManager\n",
    "\n",
    "# Set up environment variables\n",
    "os.environ.setdefault(\"NEO4J_URI\", \"bolt://localhost:7687\")\n",
    "os.environ.setdefault(\"NEO4J_USER\", \"neo4j\")\n",
    "os.environ.setdefault(\"NEO4J_PASSWORD\", \"password\")\n",
    "\n",
    "# Create Neo4j connection\n",
    "from dnd_agent.database.neo4j_manager import Neo4jSpatialManager\n",
    "neo4j_manager = Neo4jSpatialManager(\n",
    "    uri=os.environ[\"NEO4J_URI\"],\n",
    "    user=os.environ[\"NEO4J_USER\"],\n",
    "    password=os.environ[\"NEO4J_PASSWORD\"]\n",
    ")\n",
    "\n",
    "# Create PostgreSQL connection (optional)\n",
    "postgres_conn = None\n",
    "try:\n",
    "    import psycopg2\n",
    "    postgres_conn = psycopg2.connect(\n",
    "        host=os.environ.get(\"POSTGRES_HOST\", \"localhost\"),\n",
    "        port=os.environ.get(\"POSTGRES_PORT\", \"5432\"),\n",
    "        database=os.environ.get(\"POSTGRES_DB\", \"dnd_campaign\"),\n",
    "        user=os.environ.get(\"POSTGRES_USER\", \"postgres\"),\n",
    "        password=os.environ.get(\"POSTGRES_PASSWORD\", \"password\")\n",
    "    )\n",
    "except:\n",
    "    print(\"PostgreSQL not available - memory features disabled\")\n",
    "\n",
    "@dataclass\n",
    "class CampaignDeps:\n",
    "    \"\"\"Dependencies for the D&D campaign agents\"\"\"\n",
    "    neo4j_driver: Any\n",
    "    postgres_conn: Optional[Any] = None\n",
    "    dnd_api_base: str = \"https://www.dnd5eapi.co\"\n",
    "    current_context: Optional[Dict[str, Any]] = None"
   ]
  },
  {
   "cell_type": "code",
   "execution_count": null,
   "id": "3dd34439",
   "metadata": {},
   "outputs": [
    {
     "name": "stdout",
     "output_type": "stream",
     "text": [
      "\u001b[0;31mInit signature:\u001b[0m\n",
      "\u001b[0mMultiAgentDnDSystem\u001b[0m\u001b[0;34m(\u001b[0m\u001b[0;34m\u001b[0m\n",
      "\u001b[0;34m\u001b[0m    \u001b[0mdeps\u001b[0m\u001b[0;34m:\u001b[0m \u001b[0mdnd_agent\u001b[0m\u001b[0;34m.\u001b[0m\u001b[0mmultiagent\u001b[0m\u001b[0;34m.\u001b[0m\u001b[0mCampaignDeps\u001b[0m\u001b[0;34m,\u001b[0m\u001b[0;34m\u001b[0m\n",
      "\u001b[0;34m\u001b[0m    \u001b[0mmodel_config\u001b[0m\u001b[0;34m:\u001b[0m \u001b[0mDict\u001b[0m\u001b[0;34m[\u001b[0m\u001b[0mstr\u001b[0m\u001b[0;34m,\u001b[0m \u001b[0mAny\u001b[0m\u001b[0;34m]\u001b[0m\u001b[0;34m,\u001b[0m\u001b[0;34m\u001b[0m\n",
      "\u001b[0;34m\u001b[0m\u001b[0;34m)\u001b[0m\u001b[0;34m\u001b[0m\u001b[0;34m\u001b[0m\u001b[0m\n",
      "\u001b[0;31mDocstring:\u001b[0m      Main system that creates and orchestrates all agents\n",
      "\u001b[0;31mFile:\u001b[0m           ~/Coding/Projects/dnd_agent/src/dnd_agent/multiagent.py\n",
      "\u001b[0;31mType:\u001b[0m           type\n",
      "\u001b[0;31mSubclasses:\u001b[0m     "
     ]
    }
   ],
   "source": []
  },
  {
   "cell_type": "code",
   "execution_count": 4,
   "id": "34f6ea42",
   "metadata": {},
   "outputs": [],
   "source": [
    "deps = CampaignDeps(\n",
    "        neo4j_driver=neo4j_manager.driver,\n",
    "        postgres_conn=postgres_conn,\n",
    "        dnd_api_base=\"https://www.dnd5eapi.co\",\n",
    "        current_context={}\n",
    "    )\n"
   ]
  },
  {
   "cell_type": "code",
   "execution_count": 6,
   "id": "f4ced7cd",
   "metadata": {},
   "outputs": [
    {
     "name": "stderr",
     "output_type": "stream",
     "text": [
      "INFO:dnd_agent.multiagent:Initialized 7 agents\n"
     ]
    }
   ],
   "source": [
    "multi_agent_system = MultiAgentDnDSystem(deps, model_config={\"model\": \"gpt-4\", \"temperature\": 0.7})"
   ]
  },
  {
   "cell_type": "code",
   "execution_count": 10,
   "id": "f8cae22c",
   "metadata": {},
   "outputs": [
    {
     "data": {
      "text/plain": [
       "['_initialize_agents',\n",
       " 'agents',\n",
       " 'deps',\n",
       " 'direct_agent_call',\n",
       " 'get_system_status',\n",
       " 'model_config',\n",
       " 'process_player_turn',\n",
       " 'process_user_input',\n",
       " 'request_log',\n",
       " 'start_combat']"
      ]
     },
     "execution_count": 10,
     "metadata": {},
     "output_type": "execute_result"
    }
   ],
   "source": [
    "dir(multi_agent_system)[-10:]"
   ]
  },
  {
   "cell_type": "code",
   "execution_count": 11,
   "id": "7a1ad0f7",
   "metadata": {},
   "outputs": [
    {
     "ename": "AttributeError",
     "evalue": "'MultiAgentDnDSystem' object has no attribute 'process'",
     "output_type": "error",
     "traceback": [
      "\u001b[0;31m---------------------------------------------------------------------------\u001b[0m",
      "\u001b[0;31mAttributeError\u001b[0m                            Traceback (most recent call last)",
      "Cell \u001b[0;32mIn[11], line 1\u001b[0m\n\u001b[0;32m----> 1\u001b[0m \u001b[38;5;28;01mawait\u001b[39;00m multi_agent_system\u001b[38;5;241m.\u001b[39mprocess(AgentRequest(\n\u001b[1;32m      2\u001b[0m     agent_type\u001b[38;5;241m=\u001b[39mAgentType\u001b[38;5;241m.\u001b[39mRULES,\n\u001b[1;32m      3\u001b[0m     action\u001b[38;5;241m=\u001b[39m\u001b[38;5;124m\"\u001b[39m\u001b[38;5;124mCan I dehydrate a creature using destroy water?\u001b[39m\u001b[38;5;124m\"\u001b[39m,\n\u001b[1;32m      4\u001b[0m     context\u001b[38;5;241m=\u001b[39m{},\n\u001b[1;32m      5\u001b[0m     parameters\u001b[38;5;241m=\u001b[39m{}\n\u001b[1;32m      6\u001b[0m ))\n",
      "\u001b[0;31mAttributeError\u001b[0m: 'MultiAgentDnDSystem' object has no attribute 'process'"
     ]
    }
   ],
   "source": [
    "await multi_agent_system.process(AgentRequest(\n",
    "    agent_type=AgentType.RULES,\n",
    "    action=\"Can I dehydrate a creature using destroy water?\",\n",
    "    context={},\n",
    "    parameters={}\n",
    "))"
   ]
  },
  {
   "cell_type": "code",
   "execution_count": 3,
   "id": "436593b4",
   "metadata": {},
   "outputs": [],
   "source": [
    "agent = RulesAgent('rules', deps, model_config={'model_name': 'gpt-4o'})"
   ]
  },
  {
   "cell_type": "code",
   "execution_count": 23,
   "id": "97c1a59f",
   "metadata": {},
   "outputs": [],
   "source": [
    "result = await agent.agent.run(\"Can I dehydrate a creature using destroy water?\")"
   ]
  },
  {
   "cell_type": "code",
   "execution_count": null,
   "id": "4d57bc8d",
   "metadata": {},
   "outputs": [],
   "source": [
    "result = await agent.process(AgentRequest(\n",
    "    agent_type=AgentType.RULES,\n",
    "    action=\"Can I dehydrate a creature using destroy water?\",\n",
    "    context={},\n",
    "    parameters={}\n",
    "))"
   ]
  },
  {
   "cell_type": "code",
   "execution_count": 10,
   "id": "3fb006cb",
   "metadata": {},
   "outputs": [
    {
     "data": {
      "text/html": [
       "<pre style=\"white-space:pre;overflow-x:auto;line-height:normal;font-family:Menlo,'DejaVu Sans Mono',consolas,'Courier New',monospace\">The spell \"Create or Destroy Water\" allows you to destroy up to 10 gallons of water in an open container within    \n",
       "range, or alternatively, to destroy fog in a 30-foot cube. The spell description specifies its effects on          \n",
       "containers and fog but does not extend to dehydrating creatures directly.                                          \n",
       "\n",
       "Therefore, you cannot use \"Destroy Water\" to dehydrate a creature based on the spell's description. The spell only \n",
       "targets water in an open container or fog, not the water contained within a living being. For the specific         \n",
       "mechanics and limitations, consult with your Dungeon Master, as they may allow for creative uses at their          \n",
       "discretion.                                                                                                        \n",
       "</pre>\n"
      ],
      "text/plain": [
       "The spell \"Create or Destroy Water\" allows you to destroy up to 10 gallons of water in an open container within    \n",
       "range, or alternatively, to destroy fog in a 30-foot cube. The spell description specifies its effects on          \n",
       "containers and fog but does not extend to dehydrating creatures directly.                                          \n",
       "\n",
       "Therefore, you cannot use \"Destroy Water\" to dehydrate a creature based on the spell's description. The spell only \n",
       "targets water in an open container or fog, not the water contained within a living being. For the specific         \n",
       "mechanics and limitations, consult with your Dungeon Master, as they may allow for creative uses at their          \n",
       "discretion.                                                                                                        \n"
      ]
     },
     "metadata": {},
     "output_type": "display_data"
    }
   ],
   "source": [
    "print(result.message)"
   ]
  },
  {
   "cell_type": "code",
   "execution_count": 12,
   "id": "88785551",
   "metadata": {},
   "outputs": [
    {
     "data": {
      "text/plain": [
       "<AgentType.ENTITY: 'entity'>"
      ]
     },
     "execution_count": 12,
     "metadata": {},
     "output_type": "execute_result"
    }
   ],
   "source": [
    "AgentType['ENTITY']"
   ]
  },
  {
   "cell_type": "code",
   "execution_count": 13,
   "id": "07cc5750",
   "metadata": {},
   "outputs": [],
   "source": [
    "from dnd_agent.tools import recall_chat_history"
   ]
  },
  {
   "cell_type": "code",
   "execution_count": 15,
   "id": "ab55f312",
   "metadata": {},
   "outputs": [],
   "source": [
    "import psycopg2\n",
    "\n",
    "postgres_conn = psycopg2.connect(\n",
    "    host=os.environ[\"POSTGRES_HOST\"],\n",
    "    port=os.environ[\"POSTGRES_PORT\"],\n",
    "    database=os.environ[\"POSTGRES_DB\"],\n",
    "    user=os.environ[\"POSTGRES_USER\"],\n",
    "    password=os.environ[\"POSTGRES_PASSWORD\"],\n",
    ")"
   ]
  },
  {
   "cell_type": "code",
   "execution_count": 19,
   "id": "de453665",
   "metadata": {},
   "outputs": [],
   "source": [
    "@dataclass\n",
    "class Duck:\n",
    "    deps: Deps\n",
    "    \n",
    "@dataclass\n",
    "class Deps:\n",
    "    postgres_conn: psycopg2.extensions.connection"
   ]
  },
  {
   "cell_type": "code",
   "execution_count": 36,
   "id": "7e972d25",
   "metadata": {},
   "outputs": [],
   "source": [
    "memory_agent = MemoryAgent('memory', deps, model_config={'model_name': 'gpt-4o'})"
   ]
  },
  {
   "cell_type": "code",
   "execution_count": 37,
   "id": "8c033527",
   "metadata": {},
   "outputs": [
    {
     "data": {
      "text/html": [
       "<pre style=\"white-space:pre;overflow-x:auto;line-height:normal;font-family:Menlo,'DejaVu Sans Mono',consolas,'Courier New',monospace\">It seems there is currently no chat history available for this campaign. If there's anything specific you'd like to\n",
       "document or discuss for future sessions, feel free to let me know!                                                 \n",
       "</pre>\n"
      ],
      "text/plain": [
       "It seems there is currently no chat history available for this campaign. If there's anything specific you'd like to\n",
       "document or discuss for future sessions, feel free to let me know!                                                 \n"
      ]
     },
     "metadata": {},
     "output_type": "display_data"
    }
   ],
   "source": [
    "result = await memory_agent.process(AgentRequest(\n",
    "    agent_type=AgentType.MEMORY,\n",
    "    action=\"What chat history do we have?\",\n",
    "    context={},\n",
    "    parameters={}\n",
    "))\n",
    "print(result.message)"
   ]
  },
  {
   "cell_type": "code",
   "execution_count": 34,
   "id": "9731879d",
   "metadata": {},
   "outputs": [],
   "source": [
    "spatial_agent = SpatialAgent('spatial', deps, model_config={'model_name': 'gpt-4o'})"
   ]
  },
  {
   "cell_type": "code",
   "execution_count": 43,
   "id": "670e25b7",
   "metadata": {},
   "outputs": [
    {
     "data": {
      "text/html": [
       "<pre style=\"white-space:pre;overflow-x:auto;line-height:normal;font-family:Menlo,'DejaVu Sans Mono',consolas,'Courier New',monospace\">I currently do not have any information about who is located within the Rusty Dragon Inn. I can set up and track   \n",
       "the locations of entities if you provide the details or map information of the inn.                                \n",
       "</pre>\n"
      ],
      "text/plain": [
       "I currently do not have any information about who is located within the Rusty Dragon Inn. I can set up and track   \n",
       "the locations of entities if you provide the details or map information of the inn.                                \n"
      ]
     },
     "metadata": {},
     "output_type": "display_data"
    }
   ],
   "source": [
    "result = await spatial_agent.process(AgentRequest(\n",
    "    agent_type=AgentType.SPATIAL,\n",
    "    action=\"Who is located in the rusty dragon inn?\",\n",
    "    context={},\n",
    "    parameters={}\n",
    "))\n",
    "print(result.message)"
   ]
  },
  {
   "cell_type": "code",
   "execution_count": null,
   "id": "19b417cc",
   "metadata": {},
   "outputs": [],
   "source": []
  }
 ],
 "metadata": {
  "kernelspec": {
   "display_name": "dnd-agent (3.10.14)",
   "language": "python",
   "name": "python3"
  },
  "language_info": {
   "codemirror_mode": {
    "name": "ipython",
    "version": 3
   },
   "file_extension": ".py",
   "mimetype": "text/x-python",
   "name": "python",
   "nbconvert_exporter": "python",
   "pygments_lexer": "ipython3",
   "version": "3.10.14"
  }
 },
 "nbformat": 4,
 "nbformat_minor": 5
}
